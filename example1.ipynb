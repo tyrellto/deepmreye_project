{
 "cells": [
  {
   "cell_type": "code",
   "execution_count": null,
   "metadata": {},
   "outputs": [
    {
     "name": "stdout",
     "output_type": "stream",
     "text": [
      "GPU available: True\n",
      "Number of CUDA devices: 1\n",
      "  Device 0: NVIDIA GeForce RTX 4080\n"
     ]
    }
   ],
   "source": [
    "import torch\n",
    "\n",
    "# 1) Check if CUDA-enabled GPU is available\n",
    "gpu_available = torch.cuda.is_available()\n",
    "print(f\"GPU available: {gpu_available}\")\n",
    "\n",
    "# 2) How many GPUs?\n",
    "num_gpus = torch.cuda.device_count()\n",
    "print(f\"Number of CUDA devices: {num_gpus}\")\n",
    "\n",
    "# 3) (Optional) Print name of each GPU\n",
    "for i in range(num_gpus):\n",
    "    print(f\"  Device {i}: {torch.cuda.get_device_name(i)}\")\n"
   ]
  }
 ],
 "metadata": {
  "kernelspec": {
   "display_name": "deepmr",
   "language": "python",
   "name": "python3"
  },
  "language_info": {
   "codemirror_mode": {
    "name": "ipython",
    "version": 3
   },
   "file_extension": ".py",
   "mimetype": "text/x-python",
   "name": "python",
   "nbconvert_exporter": "python",
   "pygments_lexer": "ipython3",
   "version": "3.12.2"
  }
 },
 "nbformat": 4,
 "nbformat_minor": 2
}
